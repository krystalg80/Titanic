{
 "cells": [
  {
   "cell_type": "code",
   "execution_count": 8,
   "id": "1aaf2229-fbf2-4d2e-8856-f507a833cccb",
   "metadata": {},
   "outputs": [
    {
     "name": "stdout",
     "output_type": "stream",
     "text": [
      "Set 1 Results\n",
      "Variance: 1.489795918367347\n",
      "Mean: 7.285714285714286\n",
      "Min: 4\n",
      "Max: 9\n",
      "Range: 5\n",
      "Set 2 Results\n",
      "Variance: 458729763.47107434\n",
      "Mean: 242.27272727272728\n",
      "Min: -50349\n",
      "Max: 50023\n",
      "Range: 100372\n",
      "Standard Deviation: 1.2205719636167902\n",
      "Standard Deviation: 1.2205719636167902\n",
      "Standard Deviation: 21417.97757658445\n",
      "Standard Deviation: 21417.97757658445\n"
     ]
    }
   ],
   "source": [
    "import numpy as np\n",
    "\n",
    "\n",
    "\n",
    "variance_1 = [7,8,7,8,9,6,7,7,7,8,9,8,7,4]\n",
    "\n",
    "print(\"Set 1 Results\")\n",
    "print(\"Variance:\", np.var(variance_1))\n",
    "print(\"Mean:\", np.mean(variance_1))\n",
    "print(\"Min:\", np.min(variance_1))\n",
    "print(\"Max:\", np.max(variance_1))\n",
    "print(\"Range:\", np.max(variance_1) - np.min(variance_1))\n",
    "\n",
    "\n",
    "variance_2 = [102,2,50023,30,3040,50,20,1,50,-304,-50349]\n",
    "\n",
    "print(\"Set 2 Results\")\n",
    "print(\"Variance:\",np.var(variance_2))\n",
    "print(\"Mean:\", np.mean(variance_2))\n",
    "print(\"Min:\", np.min(variance_2))\n",
    "print(\"Max:\", np.max(variance_2))\n",
    "print(\"Range:\", np.max(variance_2) - np.min(variance_2))\n",
    "\n",
    "\n",
    "def standard_deviation(series):\n",
    "  # Compute the mean of the series\n",
    "    mean = np.mean(series)\n",
    "  # Find the squares of all the deviations from the mean\n",
    "    deviations = series - mean\n",
    "  # Sum the squares of the deviations from the mean\n",
    "    squared_deviations = deviations ** 2\n",
    "    sum_squared_deviations = np.sum(squared_deviations)\n",
    "  # Divide this sum by the total number of data values\n",
    "    n = len(series)\n",
    "    variance = sum_squared_deviations / n\n",
    "  # Take the squareroot of this quotient.\n",
    "    std_dev = np.sqrt(variance)\n",
    "    return std_dev\n",
    "\n",
    "print(\"Standard Deviation:\", standard_deviation(variance_1))\n",
    "print(\"Standard Deviation:\", np.std(variance_1))\n",
    "\n",
    "print(\"Standard Deviation:\", standard_deviation(variance_2))\n",
    "print(\"Standard Deviation:\", np.std(variance_2))"
   ]
  },
  {
   "cell_type": "code",
   "execution_count": null,
   "id": "2392ccfc-a9b4-4328-b577-fa15f867e9a3",
   "metadata": {},
   "outputs": [],
   "source": []
  }
 ],
 "metadata": {
  "kernelspec": {
   "display_name": "Python 3 (ipykernel)",
   "language": "python",
   "name": "python3"
  },
  "language_info": {
   "codemirror_mode": {
    "name": "ipython",
    "version": 3
   },
   "file_extension": ".py",
   "mimetype": "text/x-python",
   "name": "python",
   "nbconvert_exporter": "python",
   "pygments_lexer": "ipython3",
   "version": "3.11.7"
  }
 },
 "nbformat": 4,
 "nbformat_minor": 5
}
